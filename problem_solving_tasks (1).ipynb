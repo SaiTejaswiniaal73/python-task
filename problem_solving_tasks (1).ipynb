{
 "cells": [
  {
   "cell_type": "code",
   "execution_count": 4,
   "id": "cf85553a-b5c8-48e1-a4fd-3a7bd52964c0",
   "metadata": {},
   "outputs": [],
   "source": [
    "#Week 1: Topics - Conditional statements, For and while (At max 2 days)\n",
    "# Conditional statements"
   ]
  },
  {
   "cell_type": "code",
   "execution_count": 7,
   "id": "d6c876ac-dffd-4e04-b9f9-fd17e45ac3e9",
   "metadata": {},
   "outputs": [],
   "source": [
    "# 1. If else and if else ladder\n",
    "# a. Easy Questions:\n",
    "# viii. Write a program to display the name of a month based on\n",
    "# the month number (1 for January, 2 for February, etc.).\n"
   ]
  },
  {
   "cell_type": "code",
   "execution_count": 8,
   "id": "b1d52953-d004-42bb-abc7-1e1336da3fb4",
   "metadata": {},
   "outputs": [
    {
     "name": "stdin",
     "output_type": "stream",
     "text": [
      "enter a number to know  +ve,-ve or zero:  -67\n"
     ]
    },
    {
     "name": "stdout",
     "output_type": "stream",
     "text": [
      "given number is negative\n"
     ]
    }
   ],
   "source": [
    "# i. Write a program to check if a given number is positive,negative, or zero.\n",
    "number_to_check=int(input(\"enter a number to know  +ve,-ve or zero: \"))\n",
    "if number_to_check>0:\n",
    "    print(\" given number is postive\")\n",
    "elif number_to_check==0:\n",
    "    print(\" given number is zero\")\n",
    "else:\n",
    "    print(\"given number is negative\")\n",
    "\n"
   ]
  },
  {
   "cell_type": "code",
   "execution_count": 12,
   "id": "c0677a64-76cd-48e3-b04e-2434db824ad5",
   "metadata": {},
   "outputs": [
    {
     "name": "stdout",
     "output_type": "stream",
     "text": [
      "given number is odd\n"
     ]
    }
   ],
   "source": [
    "# ii. Determine if a number is odd or even.\n",
    "if number_to_check%2==0:\n",
    "    print(\"given number is even\")\n",
    "else:\n",
    "    print(\"given number is odd\")\n"
   ]
  },
  {
   "cell_type": "code",
   "execution_count": 14,
   "id": "b022e621-6fbc-4adf-aa98-f7c595737e74",
   "metadata": {},
   "outputs": [
    {
     "name": "stdin",
     "output_type": "stream",
     "text": [
      "enter your age:  12\n"
     ]
    },
    {
     "name": "stdout",
     "output_type": "stream",
     "text": [
      "he cannot vote\n"
     ]
    }
   ],
   "source": [
    "# iii. Check if a person is eligible to vote (age >= 18).\n",
    "person_age=int(input(\"enter your age: \"))\n",
    "eligible_result='he can vote' if person_age>18 else 'he cannot vote'\n",
    "print(eligible_result)"
   ]
  },
  {
   "cell_type": "code",
   "execution_count": 16,
   "id": "d8875a60-bdaf-48ec-bf54-66a2f8e4a1f3",
   "metadata": {},
   "outputs": [
    {
     "name": "stdin",
     "output_type": "stream",
     "text": [
      "enter a number to know greatest of two numbers  23\n",
      "enter a number to know  greatest of two numbers  12\n"
     ]
    },
    {
     "name": "stdout",
     "output_type": "stream",
     "text": [
      "num1 is greater then num1\n"
     ]
    }
   ],
   "source": [
    "# iv. Write a program to find the greatest of two numbers.\n",
    "\n",
    "num1=int(input(\"enter a number to know greatest of two numbers \"))\n",
    "num2=int(input(\"enter a number to know  greatest of two numbers \"))\n",
    "check_greater_num='num1 is greater then num1' if num1>num2 else 'num2 is greater than num2'\n",
    "print(check_greater_num)"
   ]
  },
  {
   "cell_type": "code",
   "execution_count": 20,
   "id": "ddc2401b-ca07-4fd1-bc34-475456dc017f",
   "metadata": {},
   "outputs": [
    {
     "name": "stdin",
     "output_type": "stream",
     "text": [
      "enter student marks 41\n"
     ]
    },
    {
     "name": "stdout",
     "output_type": "stream",
     "text": [
      "you a pass\n"
     ]
    }
   ],
   "source": [
    "# v. Print \"Pass\" if a student scores more than 40 marks;# otherwise, print \"Fail.\"\n",
    "\n",
    "student_marks=float(input(\"enter student marks\"))\n",
    "if student_marks>40:\n",
    "    print(\"you a pass\")\n",
    "else:\n",
    "    print(\"you ar fail\")"
   ]
  },
  {
   "cell_type": "code",
   "execution_count": 21,
   "id": "9ee3b139-3216-4c04-8038-93796553eb5a",
   "metadata": {},
   "outputs": [
    {
     "name": "stdin",
     "output_type": "stream",
     "text": [
      "Enter a number (1-7):  5\n"
     ]
    },
    {
     "name": "stdout",
     "output_type": "stream",
     "text": [
      "Friday\n"
     ]
    }
   ],
   "source": [
    "# vi. Write a program to display the day of the week based on a\n",
    "# number input (1 for Monday, 2 for Tuesday, etc.).\n",
    "\n",
    "def get_day(num):\n",
    "    days = [\"Monday\", \"Tuesday\", \"Wednesday\", \"Thursday\", \"Friday\", \"Saturday\", \"Sunday\"]\n",
    "    return days[num - 1] if 1 <= num <= 7 else \"Invalid input! Enter a number between 1 and 7.\"\n",
    "\n",
    "num = int(input(\"Enter a number (1-7): \"))\n",
    "print(get_day(num))"
   ]
  },
  {
   "cell_type": "code",
   "execution_count": 22,
   "id": "df238bcc-5ba8-4b36-910a-646c908b1eea",
   "metadata": {},
   "outputs": [
    {
     "name": "stdout",
     "output_type": "stream",
     "text": [
      "(25, -5, 150, 0.6666666666666666)\n"
     ]
    }
   ],
   "source": [
    "def simple_operation(a,b):\n",
    "    sum=a+b\n",
    "    sub=a-b\n",
    "    mul=a*b\n",
    "    div=a/b\n",
    "    return sum,sub,mul,div\n",
    "print(simple_operation(10,15))"
   ]
  },
  {
   "cell_type": "code",
   "execution_count": 23,
   "id": "4177f670-91f4-4a41-ae10-173aa76fe2fd",
   "metadata": {},
   "outputs": [
    {
     "name": "stdin",
     "output_type": "stream",
     "text": [
      "Enter a month number (1-12):  12\n"
     ]
    },
    {
     "name": "stdout",
     "output_type": "stream",
     "text": [
      "December\n"
     ]
    }
   ],
   "source": [
    "# viii. Write a program to display the name of a month based on\n",
    "# the month number (1 for January, 2 for February, etc.).\n",
    "\n",
    "num = int(input(\"Enter a month number (1-12): \"))\n",
    "\n",
    "if num == 1:\n",
    "    print(\"January\")\n",
    "elif num == 2:\n",
    "    print(\"February\")\n",
    "elif num == 3:\n",
    "    print(\"March\")\n",
    "elif num == 4:\n",
    "    print(\"April\")\n",
    "elif num == 5:\n",
    "    print(\"May\")\n",
    "elif num == 6:\n",
    "    print(\"June\")\n",
    "elif num == 7:\n",
    "    print(\"July\")\n",
    "elif num == 8:\n",
    "    print(\"August\")\n",
    "elif num == 9:\n",
    "    print(\"September\")\n",
    "elif num == 10:\n",
    "    print(\"October\")\n",
    "elif num == 11:\n",
    "    print(\"November\")\n",
    "elif num == 12:\n",
    "    print(\"December\")\n",
    "else:\n",
    "    print(\"Invalid input! Enter a number between 1 and 12.\")"
   ]
  },
  {
   "cell_type": "code",
   "execution_count": 24,
   "id": "7e51a203-7ae4-4bfa-8f79-c7e1de54027f",
   "metadata": {},
   "outputs": [
    {
     "name": "stdin",
     "output_type": "stream",
     "text": [
      "Enter a month number (1-12):  12\n"
     ]
    },
    {
     "name": "stdout",
     "output_type": "stream",
     "text": [
      "December\n"
     ]
    }
   ],
   "source": [
    "months = [\"January\", \"February\", \"March\", \"April\", \"May\", \"June\", \n",
    "          \"July\", \"August\", \"September\", \"October\", \"November\", \"December\"]\n",
    "\n",
    "num = int(input(\"Enter a month number (1-12): \"))\n",
    "\n",
    "if 1 <= num <= 12:\n",
    "    print(months[num - 1])  # List index starts from 0, so use num - 1\n",
    "else:\n",
    "    print(\"Invalid input! Enter a number between 1 and 12.\")\n"
   ]
  },
  {
   "cell_type": "code",
   "execution_count": 26,
   "id": "9eae9aa8-ddcd-4142-9689-b0f81e455334",
   "metadata": {},
   "outputs": [],
   "source": [
    "# b. Medium Questions:\n",
    "# i. Write a program to find the greatest of three numbers.\n",
    "# ii. Check if a year is a leap year.\n",
    "# iii. Write a program to classify a character entered by the user\n",
    "# as a vowel, consonant, or neither.\n",
    "# iv. Calculate the grade of a student based on the marks they\n",
    "# score:\n",
    "# 1. 90-100: Grade A\n",
    "# 2. 80-89: Grade B\n",
    "# 3. 70-79: Grade C\n",
    "# 4. <70: Fail.\n",
    "# v. Write a program to check if three sides length form a valid\n",
    "# triangle."
   ]
  },
  {
   "cell_type": "code",
   "execution_count": 28,
   "id": "8e735c73-7e09-4204-b7ba-6eb82be7f215",
   "metadata": {},
   "outputs": [
    {
     "name": "stdin",
     "output_type": "stream",
     "text": [
      "enter your num :  2\n",
      "enter your num :  3\n",
      "enter your num :  1\n"
     ]
    },
    {
     "name": "stdout",
     "output_type": "stream",
     "text": [
      "num2 is big\n"
     ]
    }
   ],
   "source": [
    "number1=int(input(\"enter your num : \"))\n",
    "number2 =int(input(\"enter your num : \"))\n",
    "number3 =int(input(\"enter your num : \"))\n",
    "if(number1>number2  and number1>number3 ):\n",
    "    print(\"num1 is big\")\n",
    "elif(number1==number2==number3 ):\n",
    "    print(\"all are equal\")\n",
    "elif(number2 >number1 and number2 >number3 ):\n",
    "    print(\"num2 is big\")\n",
    "else:\n",
    "    print(\"num3 is big\")"
   ]
  },
  {
   "cell_type": "code",
   "execution_count": 30,
   "id": "3f139c63-b528-49ba-8fb0-b0eef86a614d",
   "metadata": {},
   "outputs": [
    {
     "name": "stdin",
     "output_type": "stream",
     "text": [
      "enetr a year number:  24\n"
     ]
    },
    {
     "name": "stdout",
     "output_type": "stream",
     "text": [
      "given year i leap\n"
     ]
    }
   ],
   "source": [
    "# ii. Check if a year is a leap year.\n",
    "\n",
    "year=int(input(\"enetr a year number: \"))\n",
    "o_p='given year i leap' if (year%100!=0 and year%4==0) or (year %400==0) else 'it is not leap year'\n",
    "print(o_p)"
   ]
  },
  {
   "cell_type": "code",
   "execution_count": 32,
   "id": "b3997c3d-6232-409c-800e-8ae858044f2a",
   "metadata": {},
   "outputs": [
    {
     "name": "stdout",
     "output_type": "stream",
     "text": [
      "leap year\n"
     ]
    }
   ],
   "source": [
    "if (year%100!=0 and year%4==0) or (year %400==0):\n",
    "    print(\"leap year\")\n",
    "else:\n",
    "    print(\"not a leap year\")"
   ]
  },
  {
   "cell_type": "code",
   "execution_count": 37,
   "id": "d35ed5be-2505-4b33-98ff-050ead7b086a",
   "metadata": {},
   "outputs": [
    {
     "name": "stdin",
     "output_type": "stream",
     "text": [
      "Enter a single character:  q\n"
     ]
    },
    {
     "name": "stdout",
     "output_type": "stream",
     "text": [
      "Consonant\n"
     ]
    }
   ],
   "source": [
    "# iii. Write a program to classify a character entered by the user\n",
    "# as a vowel, consonant, or neither.\n",
    "user_char = input(\"Enter a single character: \").lower()\n",
    "\n",
    "if len(user_char) != 1:\n",
    "    print(\"Please enter only one character.\")\n",
    "elif user_char in 'aeiou':\n",
    "    print(\"Vowel\")\n",
    "elif user_char.isalpha():\n",
    "    print(\"Consonant\")\n",
    "elif user_char.isdigit():\n",
    "    print(\"Number\")\n",
    "else:\n",
    "    print(\"Not an alphabet\")\n"
   ]
  },
  {
   "cell_type": "code",
   "execution_count": 40,
   "id": "34d772f7-43d1-45e4-b084-a4abd2cb738c",
   "metadata": {},
   "outputs": [
    {
     "name": "stdin",
     "output_type": "stream",
     "text": [
      "Enter your marks:  96\n"
     ]
    },
    {
     "name": "stdout",
     "output_type": "stream",
     "text": [
      "Grade: A\n"
     ]
    }
   ],
   "source": [
    "# iv. Calculate the grade of a student based on the marks they\n",
    "# score:\n",
    "# 1. 90-100: Grade A\n",
    "# 2. 80-89: Grade B\n",
    "# 3. 70-79: Grade C\n",
    "# 4. <70: Fail.\n",
    "\n",
    "marks = int(input(\"Enter your marks: \"))\n",
    "\n",
    "if 90 <= marks <= 100:\n",
    "    print(\"Grade: A\")\n",
    "elif 80 <= marks < 90:\n",
    "    print(\"Grade: B\")\n",
    "elif 70 <= marks < 80:\n",
    "    print(\"Grade: C\")\n",
    "else:\n",
    "    print(\"Fail\")"
   ]
  },
  {
   "cell_type": "code",
   "execution_count": 42,
   "id": "8fd38d22-0588-472f-b2f7-2f390754e67e",
   "metadata": {},
   "outputs": [
    {
     "name": "stdin",
     "output_type": "stream",
     "text": [
      "Enter first side length:  1\n",
      "Enter second side length:  1\n",
      "Enter third side length:  1\n"
     ]
    },
    {
     "name": "stdout",
     "output_type": "stream",
     "text": [
      "Triangle is possible\n"
     ]
    }
   ],
   "source": [
    "\n",
    "# v. Write a program to check if three sides length form a valid\n",
    "# triangle.\n",
    "\n",
    "side1 = int(input(\"Enter first side length: \"))\n",
    "side2 = int(input(\"Enter second side length: \"))\n",
    "side3 = int(input(\"Enter third side length: \"))\n",
    "\n",
    "if side1 + side2 > side3 and side2 + side3 > side1 and side1 + side3 > side2:\n",
    "    print(\"Triangle is possible\")\n",
    "else:\n",
    "    print(\"Triangle is not possible\")"
   ]
  },
  {
   "cell_type": "code",
   "execution_count": 44,
   "id": "f84a2564-ca74-48e7-b16d-e29c1235ec15",
   "metadata": {},
   "outputs": [
    {
     "name": "stdin",
     "output_type": "stream",
     "text": [
      "Enter first side length:  -2\n",
      "Enter second side length:  1\n",
      "Enter third side length:  2\n"
     ]
    },
    {
     "name": "stdout",
     "output_type": "stream",
     "text": [
      "Side lengths must be greater than zero.\n"
     ]
    }
   ],
   "source": [
    "side1 = int(input(\"Enter first side length: \"))\n",
    "side2 = int(input(\"Enter second side length: \"))\n",
    "side3 = int(input(\"Enter third side length: \"))\n",
    "\n",
    "if side1 > 0 and side2 > 0 and side3 > 0:  # Ensures sides are positive\n",
    "    if side1 + side2 > side3 and side2 + side3 > side1 and side1 + side3 > side2:\n",
    "        print(\"The given sides can form a valid triangle.\")\n",
    "    else:\n",
    "        print(\"The given sides cannot form a valid triangle.\")\n",
    "else:\n",
    "    print(\"Side lengths must be greater than zero.\")\n"
   ]
  },
  {
   "cell_type": "code",
   "execution_count": 47,
   "id": "2aebd17a-d326-43f4-a3e2-978bb8d859bd",
   "metadata": {},
   "outputs": [],
   "source": [
    "# loops"
   ]
  },
  {
   "cell_type": "code",
   "execution_count": 46,
   "id": "855cb841-71dc-40ba-9a8b-c81598594d0d",
   "metadata": {},
   "outputs": [],
   "source": [
    "#loops\n",
    "\n",
    "#  a. Easy Questions:"
   ]
  },
  {
   "cell_type": "code",
   "execution_count": 50,
   "id": "f4b7978a-3973-4c99-82fd-9552507cbfdc",
   "metadata": {},
   "outputs": [
    {
     "name": "stdout",
     "output_type": "stream",
     "text": [
      "1\n",
      "2\n",
      "3\n",
      "4\n",
      "5\n",
      "6\n",
      "7\n",
      "8\n",
      "9\n",
      "10\n"
     ]
    }
   ],
   "source": [
    "# i. Print all numbers from 1 to 100 using a for loop.\n",
    "for i in range(1, 11):\n",
    "    print(i)"
   ]
  },
  {
   "cell_type": "code",
   "execution_count": 49,
   "id": "30089669-2922-4a0b-91f7-183bfb7a2aa1",
   "metadata": {},
   "outputs": [
    {
     "name": "stdin",
     "output_type": "stream",
     "text": [
      "Enter a number:  21\n"
     ]
    },
    {
     "name": "stdout",
     "output_type": "stream",
     "text": [
      "Sum of first 21 natural numbers is: 231\n"
     ]
    }
   ],
   "source": [
    "# ii. Write a program to print the sum of the first n natural\n",
    "# numbers. (n*n+1/ 2)\n",
    "n = int(input(\"Enter a number: \"))\n",
    "sum_n = 0\n",
    "for i in range(1, n + 1):  \n",
    "    sum_n += i\n",
    "print(f\"Sum of first {n} natural numbers is: {sum_n}\")"
   ]
  },
  {
   "cell_type": "code",
   "execution_count": 51,
   "id": "797b5e09-7b21-4f03-9649-f0866c7b2457",
   "metadata": {},
   "outputs": [
    {
     "name": "stdout",
     "output_type": "stream",
     "text": [
      "Sum of first 21 natural numbers is: 231\n"
     ]
    }
   ],
   "source": [
    "sum_n = (n * (n + 1)) // 2  \n",
    "\n",
    "print(f\"Sum of first {n} natural numbers is: {sum_n}\")"
   ]
  },
  {
   "cell_type": "code",
   "execution_count": 52,
   "id": "cff8ed7b-5b03-44d8-be9e-d949a9365e30",
   "metadata": {},
   "outputs": [
    {
     "name": "stdout",
     "output_type": "stream",
     "text": [
      "2 4 6 8 10 12 14 16 18 20 22 24 26 28 30 32 34 36 38 40 42 44 46 48 50 "
     ]
    }
   ],
   "source": [
    "num = 2\n",
    "while num <= 50 and num%2==0:  \n",
    "    print(num, end=\" \")  \n",
    "    num += 2  "
   ]
  },
  {
   "cell_type": "code",
   "execution_count": 54,
   "id": "8327bd45-32f4-491c-b2cb-44b2204de461",
   "metadata": {},
   "outputs": [
    {
     "name": "stdout",
     "output_type": "stream",
     "text": [
      "2 , 4 , 6 , 8 , 10 , 12 , 14 , 16 , 18 , 20 , 22 , 24 , 26 , 28 , 30 , 32 , 34 , 36 , 38 , 40 , 42 , 44 , 46 , 48 , 50 , \n"
     ]
    }
   ],
   "source": [
    "num = 2\n",
    "while num <= 50:\n",
    "    print(num, end=\" , \")\n",
    "    num += 2\n",
    "print()"
   ]
  },
  {
   "cell_type": "code",
   "execution_count": 55,
   "id": "c21f0074-78ce-48e0-a72f-db4fa28589c5",
   "metadata": {},
   "outputs": [
    {
     "name": "stdin",
     "output_type": "stream",
     "text": [
      "Enter a number:  2\n"
     ]
    },
    {
     "name": "stdout",
     "output_type": "stream",
     "text": [
      "2 x 1 = 2\n",
      "2 x 2 = 4\n",
      "2 x 3 = 6\n",
      "2 x 4 = 8\n",
      "2 x 5 = 10\n",
      "2 x 6 = 12\n",
      "2 x 7 = 14\n",
      "2 x 8 = 16\n",
      "2 x 9 = 18\n",
      "2 x 10 = 20\n",
      "2 x 11 = 22\n",
      "2 x 12 = 24\n",
      "2 x 13 = 26\n",
      "2 x 14 = 28\n",
      "2 x 15 = 30\n",
      "2 x 16 = 32\n",
      "2 x 17 = 34\n",
      "2 x 18 = 36\n",
      "2 x 19 = 38\n",
      "2 x 20 = 40\n"
     ]
    }
   ],
   "source": [
    "num = int(input(\"Enter a number: \"))\n",
    "\n",
    "i = 1\n",
    "while i <= 20:\n",
    "    print(f\"{num} x {i} = {num * i}\")  # Fixed multiplication logic\n",
    "    i += 1"
   ]
  },
  {
   "cell_type": "code",
   "execution_count": 63,
   "id": "9307ebde-d089-46c0-ad56-ace19d2081ef",
   "metadata": {},
   "outputs": [
    {
     "name": "stdin",
     "output_type": "stream",
     "text": [
      "Enter a number:  122\n"
     ]
    },
    {
     "name": "stdout",
     "output_type": "stream",
     "text": [
      "Reversed number: 221\n",
      "5\n"
     ]
    }
   ],
   "source": [
    "# v. Reverse a number using a while loop. and sum of digits\n",
    "num = int(input(\"Enter a number: \"))  # Convert input to an integer\n",
    "rev = 0\n",
    "sum=0\n",
    "\n",
    "while num > 0:\n",
    "    digit = num % 10  # Get the last digit\n",
    "    sum=sum+digit\n",
    "    rev = rev * 10 + digit  # Build the reversed number\n",
    "    num = num // 10  # Remove the last digit\n",
    "\n",
    "\n",
    "print(\"Reversed number:\", rev)\n",
    "print(sum)"
   ]
  },
  {
   "cell_type": "code",
   "execution_count": 58,
   "id": "bdc268ae-c08c-4a6e-bb1d-a968a2c2b155",
   "metadata": {},
   "outputs": [
    {
     "name": "stdin",
     "output_type": "stream",
     "text": [
      "Enter a number:  1234\n"
     ]
    },
    {
     "name": "stdout",
     "output_type": "stream",
     "text": [
      "Reversed number: 4321\n"
     ]
    }
   ],
   "source": [
    "num = input(\"Enter a number: \")  \n",
    "rev = num[::-1]  # Reverse the string  \n",
    "\n",
    "print(\"Reversed number:\", rev)  "
   ]
  },
  {
   "cell_type": "code",
   "execution_count": 64,
   "id": "3c723d3d-7c13-4d9a-93b0-5a4cc03e5aa9",
   "metadata": {},
   "outputs": [
    {
     "name": "stdin",
     "output_type": "stream",
     "text": [
      "Enter a number:  2313123\n"
     ]
    },
    {
     "name": "stdout",
     "output_type": "stream",
     "text": [
      "Number of digits: 7\n"
     ]
    }
   ],
   "source": [
    "# Write a program to count the number of digits in a given\n",
    "# number using a while loop.\n",
    "# Get user input\n",
    "num = int(input(\"Enter a number: \"))\n",
    "\n",
    "# Initialize count variable\n",
    "count = 0\n",
    "\n",
    "# Use absolute value to handle negative numbers\n",
    "temp = abs(num)\n",
    "\n",
    "# Count digits using a while loop\n",
    "while temp > 0:\n",
    "    temp //= 10  # Remove the last digit\n",
    "    count += 1    # Increase the count\n",
    "\n",
    "# Special case: If the number is 0, it has 1 digit\n",
    "if num == 0:\n",
    "    count = 1\n",
    "\n",
    "# Display the result\n",
    "print(f\"Number of digits: {count}\")\n",
    "\n"
   ]
  },
  {
   "cell_type": "code",
   "execution_count": 1,
   "id": "37ee2d72-2403-4345-9052-52e72ed7ab96",
   "metadata": {},
   "outputs": [
    {
     "name": "stdin",
     "output_type": "stream",
     "text": [
      "Enter a number:  21\n"
     ]
    },
    {
     "name": "stdout",
     "output_type": "stream",
     "text": [
      "number if digits in the 21 are :2 \n"
     ]
    }
   ],
   "source": [
    "num = int(input(\"Enter a number: \"))\n",
    "count=0\n",
    "temp=num\n",
    "while temp>0:\n",
    "    temp=temp//10\n",
    "    count=count+1\n",
    "if num==0:\n",
    "    count=1\n",
    "print(f\"number if digits in the {num} are :{count} \")"
   ]
  },
  {
   "cell_type": "code",
   "execution_count": 3,
   "id": "6ca87096-a381-4965-8a87-56c5d8e6e2bf",
   "metadata": {},
   "outputs": [
    {
     "name": "stdin",
     "output_type": "stream",
     "text": [
      "Enter a number:  123\n"
     ]
    },
    {
     "name": "stdout",
     "output_type": "stream",
     "text": [
      "Please enter a negative number\n"
     ]
    },
    {
     "name": "stdin",
     "output_type": "stream",
     "text": [
      "Enter a number:  -23\n"
     ]
    },
    {
     "name": "stdout",
     "output_type": "stream",
     "text": [
      "Negative number entered. Exiting...\n"
     ]
    }
   ],
   "source": [
    "while True:\n",
    "    num = int(input(\"Enter a number: \"))  \n",
    "    if num < 0:  \n",
    "        print(\"Negative number entered. Exiting...\")\n",
    "        break  \n",
    "    else:  \n",
    "        print(\"Please enter a negative number\")  \n"
   ]
  },
  {
   "cell_type": "code",
   "execution_count": 4,
   "id": "8a6d6b0e-5e70-4caa-a839-772d28b64b9a",
   "metadata": {},
   "outputs": [],
   "source": [
    "# b. Medium Questions:\n",
    "# i. Print the first 10 terms of the Fibonacci series using a for\n",
    "# loop.\n",
    "# ii. Check if a given number is a prime number using a for\n",
    "# loop.\n",
    "# iii. Write a program to calculate the factorial of a number using\n",
    "# a while loop.\n",
    "# iv. Print all numbers from 1 to 100 that are divisible by 3 and 5\n",
    "# using a for loop.\n",
    "# v. Implement a menu-driven program where the user can\n",
    "# choose to:\n",
    "# 1. Find the square of a number.\n",
    "# 2. Find the cube of a number.\n",
    "# 3. Exit.\n",
    "# vi. Implement a basic login system where the user has three\n",
    "# attempts to enter the correct password using a loop."
   ]
  },
  {
   "cell_type": "code",
   "execution_count": 12,
   "id": "d03e5d80-14ef-4e65-b9ec-81c39cbf33cb",
   "metadata": {},
   "outputs": [
    {
     "name": "stdin",
     "output_type": "stream",
     "text": [
      "enter a num  needed  to print fibon series number: 5\n"
     ]
    },
    {
     "name": "stdout",
     "output_type": "stream",
     "text": [
      "0\n",
      "1\n",
      "1\n",
      "2\n",
      "3\n"
     ]
    }
   ],
   "source": [
    "# i. Print the first 10 terms of the Fibonacci series using a for\n",
    "# loop\n",
    "input_num=int(input(\"enter a num  needed  to print fibon series number:\"))\n",
    "n1=0\n",
    "n2=1\n",
    "print(n1)\n",
    "print(n2)\n",
    "for i in range(2,input_num):\n",
    "    temp=n1+n2\n",
    "    n1=n2\n",
    "    n2=temp\n",
    "    print(temp)"
   ]
  },
  {
   "cell_type": "code",
   "execution_count": 10,
   "id": "88adb5bc-073d-47a5-9884-86bbaa727918",
   "metadata": {},
   "outputs": [
    {
     "name": "stdout",
     "output_type": "stream",
     "text": [
      "0\n",
      "1\n",
      "1\n",
      "2\n",
      "3\n",
      "5\n",
      "8\n",
      "13\n",
      "21\n",
      "34\n"
     ]
    }
   ],
   "source": [
    "# Print the first 10 terms of the Fibonacci series using a for\n",
    "# loop\n",
    "# input_num=int(input(\"enter a num  needed  to print fibon series number:\"))\n",
    "n1=0\n",
    "n2=1\n",
    "print(n1)\n",
    "print(n2)\n",
    "for i in range(2,10):\n",
    "    temp=n1+n2\n",
    "    n1=n2\n",
    "    n2=temp\n",
    "    print(temp)"
   ]
  },
  {
   "cell_type": "code",
   "execution_count": 16,
   "id": "a9584b4e-d545-49b5-81e0-0f06e5b84c6d",
   "metadata": {},
   "outputs": [
    {
     "name": "stdin",
     "output_type": "stream",
     "text": [
      "enter a number 13\n"
     ]
    },
    {
     "name": "stdout",
     "output_type": "stream",
     "text": [
      "given number is prime\n"
     ]
    }
   ],
   "source": [
    "# ii. Check if a given number is a prime number using a for loop.\n",
    "\n",
    "num=int(input(\"enter a number\"))\n",
    "count=0\n",
    "for i in range(1,num+1):\n",
    "    if num%i==0:\n",
    "        count=count+1\n",
    "if count==2:\n",
    "    print(\"given number is prime\")\n",
    "else:\n",
    "    print(\"Not prime\")"
   ]
  },
  {
   "cell_type": "code",
   "execution_count": 21,
   "id": "90d4b621-07a6-4ed6-b01e-b60319e37723",
   "metadata": {},
   "outputs": [
    {
     "name": "stdin",
     "output_type": "stream",
     "text": [
      "enter  a num : 17\n"
     ]
    },
    {
     "name": "stdout",
     "output_type": "stream",
     "text": [
      "17 is prime\n"
     ]
    }
   ],
   "source": [
    "# prime\n",
    "def check_prime(num1): \n",
    "        if num1<=1:\n",
    "            return False\n",
    "        for i in range(2,num1):\n",
    "            if num1%i==0:\n",
    "                return False\n",
    "        return True\n",
    "number_input=int(input(\"enter  a num :\"))\n",
    "result_prime=check_prime(number_input)\n",
    "print(number_input,\"is prime\") if result_prime else print(number_input,\"it is not prime\")\n"
   ]
  },
  {
   "cell_type": "code",
   "execution_count": 31,
   "id": "0c4cea09-8531-4f93-a88b-c54b469b30e8",
   "metadata": {},
   "outputs": [
    {
     "name": "stdin",
     "output_type": "stream",
     "text": [
      "enter a number 5\n"
     ]
    },
    {
     "name": "stdout",
     "output_type": "stream",
     "text": [
      "120\n",
      "Factorial of 5 is 120\n"
     ]
    }
   ],
   "source": [
    "# iii. Write a program to calculate the factorial of a number using\n",
    "# a while loop.\n",
    "num=int(input(\"enter a number\"))\n",
    "fact=1\n",
    "temp=num\n",
    "while temp>0:\n",
    "    fact*=temp\n",
    "    temp=temp-1\n",
    "print(fact)\n",
    "print(f\"Factorial of {num} is {fact}\")"
   ]
  },
  {
   "cell_type": "code",
   "execution_count": 29,
   "id": "4433606e-bb99-4516-a44b-6642a70617cd",
   "metadata": {},
   "outputs": [
    {
     "name": "stdin",
     "output_type": "stream",
     "text": [
      "Enter a number:  5\n"
     ]
    },
    {
     "name": "stdout",
     "output_type": "stream",
     "text": [
      "Factorial of 5 is 120\n"
     ]
    }
   ],
   "source": [
    "def factorial(num):\n",
    "    fact = 1\n",
    "    while num > 0:\n",
    "        fact *= num\n",
    "        num -= 1\n",
    "    return fact\n",
    "\n",
    "num = int(input(\"Enter a number: \"))\n",
    "print(f\"Factorial of {num} is {factorial(num)}\")\n"
   ]
  },
  {
   "cell_type": "code",
   "execution_count": 44,
   "id": "b5a85930-fc34-4b33-8ca0-1dd193f9437f",
   "metadata": {},
   "outputs": [
    {
     "name": "stdout",
     "output_type": "stream",
     "text": [
      "15\n",
      "30\n",
      "45\n",
      "60\n",
      "75\n",
      "90\n"
     ]
    }
   ],
   "source": [
    "# iv. Print all numbers from 1 to 100 that are divisible by 3 and 5\n",
    "# using a for loop.\n",
    "for i in range(1,101):\n",
    "    if i%3==0 and i%5==0:\n",
    "        print(i)\n",
    "\n"
   ]
  },
  {
   "cell_type": "code",
   "execution_count": 49,
   "id": "8dcff963-1d18-428c-ae19-8fafc8781a10",
   "metadata": {},
   "outputs": [
    {
     "name": "stdout",
     "output_type": "stream",
     "text": [
      "[15, 30, 45, 60, 75, 90]\n"
     ]
    }
   ],
   "source": [
    "def div_3_5():\n",
    "    result=[]\n",
    "    for i in range(1,101):\n",
    "        if i%3==0 and i%5==0:\n",
    "            result.append(i)\n",
    "    return result\n",
    "print(div_3_5())\n",
    "        \n",
    "    "
   ]
  },
  {
   "cell_type": "code",
   "execution_count": 52,
   "id": "c6c1acd8-ad23-42d8-aba6-e38c32d20dba",
   "metadata": {},
   "outputs": [
    {
     "name": "stdout",
     "output_type": "stream",
     "text": [
      "\n",
      "1. Find the square of a number\n",
      "2. Find the cube of a number\n",
      "3. Exit\n"
     ]
    },
    {
     "name": "stdin",
     "output_type": "stream",
     "text": [
      "Enter your choice:  2\n",
      "Enter a number:  11\n"
     ]
    },
    {
     "name": "stdout",
     "output_type": "stream",
     "text": [
      "Cube of 11 is 1331\n"
     ]
    }
   ],
   "source": [
    "# v. Implement a menu-driven program where the user can\n",
    "# choose to:\n",
    "# 1. Find the square of a number.\n",
    "# 2. Find the cube of a number.\n",
    "# 3. Exit.\n",
    "def menu():\n",
    "    print(\"\\n1. Find the square of a number\")\n",
    "    print(\"2. Find the cube of a number\")\n",
    "    print(\"3. Exit\")\n",
    "\n",
    "    choice = int(input(\"Enter your choice: \"))\n",
    "\n",
    "    if choice == 1:\n",
    "        num = int(input(\"Enter a number: \"))\n",
    "        print(f\"Square of {num} is {num ** 2}\")\n",
    "    elif choice == 2:\n",
    "        num = int(input(\"Enter a number: \"))\n",
    "        print(f\"Cube of {num} is {num ** 3}\")\n",
    "    elif choice == 3:\n",
    "        print(\"Exiting...\")\n",
    "    else:\n",
    "        print(\"Invalid choice! Try again.\")\n",
    "\n",
    "menu()\n"
   ]
  },
  {
   "cell_type": "code",
   "execution_count": null,
   "id": "9e46489d-7588-4fed-8f42-1a988e0ebe6d",
   "metadata": {},
   "outputs": [],
   "source": []
  },
  {
   "cell_type": "code",
   "execution_count": 55,
   "id": "80ebba5c-1bfa-4280-87f3-67f223fce249",
   "metadata": {},
   "outputs": [
    {
     "name": "stdin",
     "output_type": "stream",
     "text": [
      "enter the user name :  22\n",
      "enter password 12\n"
     ]
    },
    {
     "name": "stdout",
     "output_type": "stream",
     "text": [
      "wrong password and username\n"
     ]
    }
   ],
   "source": [
    "# vi. Implement a basic login system where the user has three\n",
    "# attempts to enter the correct password using a loop.\n",
    "actual_username=\"teja\"\n",
    "actual_password=\"12345\"\n",
    "\n",
    "username_input=input(\"enter the user name : \")\n",
    "password_input=input(\"enter password\")\n",
    "if actual_username==username_input and actual_password==password_input:\n",
    "    print(\"login sucess\")\n",
    "elif username_input!=actual_username and actual_password!=password_input:\n",
    "    print(\"wrong password and username\")\n",
    "elif username_input!=actual_username:\n",
    "    print(\"wrong username\")\n",
    "else:\n",
    "    print(\"wrong password\")"
   ]
  },
  {
   "cell_type": "code",
   "execution_count": 56,
   "id": "19d38b3e-faa4-40ec-9db2-0572ca47a7ff",
   "metadata": {},
   "outputs": [
    {
     "name": "stdin",
     "output_type": "stream",
     "text": [
      "Enter username:  er\n",
      "Enter password:  e\n"
     ]
    },
    {
     "name": "stdout",
     "output_type": "stream",
     "text": [
      "Wrong username or password. 2 attempts left.\n"
     ]
    },
    {
     "name": "stdin",
     "output_type": "stream",
     "text": [
      "Enter username:  e\n",
      "Enter password:  r\n"
     ]
    },
    {
     "name": "stdout",
     "output_type": "stream",
     "text": [
      "Wrong username or password. 1 attempts left.\n"
     ]
    },
    {
     "name": "stdin",
     "output_type": "stream",
     "text": [
      "Enter username:  e\n",
      "Enter password:  r\n"
     ]
    },
    {
     "name": "stdout",
     "output_type": "stream",
     "text": [
      "Too many failed attempts! Access denied.\n"
     ]
    }
   ],
   "source": [
    "actual_username = \"teja\"\n",
    "actual_password = \"12345\"\n",
    "\n",
    "attempts = 3  \n",
    "\n",
    "while attempts > 0:\n",
    "    username_input = input(\"Enter username: \")\n",
    "    password_input = input(\"Enter password: \")\n",
    "\n",
    "    if username_input == actual_username and password_input == actual_password:\n",
    "        print(\"Login successful!\")\n",
    "        break\n",
    "    else:\n",
    "        attempts -= 1\n",
    "        if attempts > 0:\n",
    "            print(f\"Wrong username or password. {attempts} attempts left.\")\n",
    "        else:\n",
    "            print(\"Too many failed attempts! Access denied.\")\n"
   ]
  },
  {
   "cell_type": "code",
   "execution_count": 57,
   "id": "bbba287c-2589-4618-ad6e-582f990fb43b",
   "metadata": {},
   "outputs": [],
   "source": [
    "#test.pf question"
   ]
  },
  {
   "cell_type": "code",
   "execution_count": 59,
   "id": "c442d4ea-ca51-485a-a9a2-05b1e65b53a6",
   "metadata": {},
   "outputs": [
    {
     "name": "stdin",
     "output_type": "stream",
     "text": [
      "Enter Warrior 1 Health:  100\n",
      "Enter Warrior 1 Attack:  100\n",
      "Enter Warrior 2 Health:  120\n",
      "Enter Warrior 2 Attack:  121\n"
     ]
    },
    {
     "name": "stdout",
     "output_type": "stream",
     "text": [
      "Warrior 2 Wins\n"
     ]
    }
   ],
   "source": [
    "#barrier question 1\n",
    "def battle(w1_health, w1_attack, w2_health, w2_attack):\n",
    "    if w1_attack > w2_attack:\n",
    "        return \"Warrior 1 Wins\"\n",
    "    elif w2_attack > w1_attack:\n",
    "        return \"Warrior 2 Wins\"\n",
    "    elif w1_health > w2_health:\n",
    "        return \"Warrior 1 Wins\"\n",
    "    elif w2_health > w1_health:\n",
    "        return \"Warrior 2 Wins\"\n",
    "    else:\n",
    "        return \"Draw\"\n",
    "\n",
    "# Example usage\n",
    "w1_health = int(input(\"Enter Warrior 1 Health: \"))\n",
    "w1_attack = int(input(\"Enter Warrior 1 Attack: \"))\n",
    "w2_health = int(input(\"Enter Warrior 2 Health: \"))\n",
    "w2_attack = int(input(\"Enter Warrior 2 Attack: \"))\n",
    "\n",
    "print(battle(w1_health, w1_attack, w2_health, w2_attack))\n"
   ]
  },
  {
   "cell_type": "code",
   "execution_count": 62,
   "id": "2a29fec5-dc16-41c4-8187-9d9a9f4aa5b4",
   "metadata": {},
   "outputs": [
    {
     "name": "stdin",
     "output_type": "stream",
     "text": [
      "Enter withdrawal amount:  1000\n",
      "Enter account balance:  1200\n"
     ]
    },
    {
     "name": "stdout",
     "output_type": "stream",
     "text": [
      "Transaction Successful\n"
     ]
    }
   ],
   "source": [
    "#atm\n",
    "def atm_withdrawal(amount, balance):\n",
    "    if amount % 100 != 0:\n",
    "        return \"Withdrawal amount must be a multiple of 100\"\n",
    "    elif amount > balance:\n",
    "        return \"Insufficient balance\"\n",
    "    else:\n",
    "        return \"Transaction Successful\"\n",
    "\n",
    "# Example usage\n",
    "withdraw_amount = int(input(\"Enter withdrawal amount: \"))\n",
    "account_balance = int(input(\"Enter account balance: \"))\n",
    "\n",
    "print(atm_withdrawal(withdraw_amount, account_balance))\n"
   ]
  },
  {
   "cell_type": "code",
   "execution_count": 66,
   "id": "7b6b7e62-9ea5-4077-99db-bdde75cd2463",
   "metadata": {},
   "outputs": [
    {
     "name": "stdin",
     "output_type": "stream",
     "text": [
      "Enter your password:  hqwi!GASJDAK2@WQKL\n"
     ]
    },
    {
     "name": "stdout",
     "output_type": "stream",
     "text": [
      "Strong Password\n"
     ]
    }
   ],
   "source": [
    "def check_password_strength(password):\n",
    "    has_upper = any(char.isupper() for char in password)\n",
    "    has_digit = any(char.isdigit() for char in password)\n",
    "    has_special = any(char in \"@#$%^&*\" for char in password)\n",
    "\n",
    "    if len(password) >= 8 and has_upper and has_digit and has_special:\n",
    "        return \"Strong Password\"\n",
    "    elif len(password) >= 6 and has_upper and has_digit:\n",
    "        return \"Medium Password\"\n",
    "    else:\n",
    "        return \"Weak Password\"\n",
    "\n",
    "password = input(\"Enter your password: \")\n",
    "print(check_password_strength(password))\n"
   ]
  },
  {
   "cell_type": "code",
   "execution_count": 77,
   "id": "c734ee6b-f3b2-478a-8caa-755ec03de6b4",
   "metadata": {},
   "outputs": [
    {
     "name": "stdin",
     "output_type": "stream",
     "text": [
      "Enter first side:  12\n",
      "Enter second side:  13\n",
      "Enter third side:  11\n"
     ]
    },
    {
     "name": "stdout",
     "output_type": "stream",
     "text": [
      "Scalene Triangle\n"
     ]
    }
   ],
   "source": [
    "def triangle_validator(a, b, c):\n",
    "    if a + b > c and a + c > b and b + c > a:\n",
    "        if a == b == c:\n",
    "            return \"Equilateral Triangle\"\n",
    "        elif a == b or b == c or a == c:\n",
    "            return \"Isosceles Triangle\"\n",
    "        else:\n",
    "            return \"Scalene Triangle\"\n",
    "    else:\n",
    "        return \"Not a Triangle\"\n",
    "\n",
    "# Example usage\n",
    "side1 = int(input(\"Enter first side: \"))\n",
    "side2 = int(input(\"Enter second side: \"))\n",
    "side3 = int(input(\"Enter third side: \"))\n",
    "\n",
    "print(triangle_validator(side1, side2, side3))\n"
   ]
  },
  {
   "cell_type": "code",
   "execution_count": 78,
   "id": "d4c8b6dd-bb82-4c5b-9b2d-c90819672314",
   "metadata": {},
   "outputs": [],
   "source": [
    "# write a program to print numbers from  -1 to -10\n",
    "# sum of digits in a number  - and add when it is even \n",
    "# prime number or not prime \n",
    "# range of numbers - check prime or not in  certain range of numbers \n",
    "# write a program to print sum of non-primes  digits in a given number  - 3437 => 3,3,7 =>13\n",
    "# write a program to print max prime digit in a certain number  912780 =>2,7 => max - 7 \n",
    "# compare first digit and last digit in a number  (print equal - if there are  equal )\n",
    "#  print nth fibnocci number \n",
    "# print non-fibnocci numbers  in  given range  -(1 to 100) \n",
    "# reverse a num  in  negative numbers"
   ]
  },
  {
   "cell_type": "code",
   "execution_count": 110,
   "id": "89dd9367-e7df-4e51-a65c-0dabb433541a",
   "metadata": {},
   "outputs": [],
   "source": [
    "\n",
    "\n"
   ]
  },
  {
   "cell_type": "code",
   "execution_count": 84,
   "id": "37c45539-25ba-42d4-b0d6-6b120cd8142d",
   "metadata": {},
   "outputs": [
    {
     "name": "stdout",
     "output_type": "stream",
     "text": [
      "-10\n",
      "-9\n",
      "-8\n",
      "-7\n",
      "-6\n",
      "-5\n",
      "-4\n",
      "-3\n",
      "-2\n",
      "-1\n"
     ]
    }
   ],
   "source": [
    "# write a program to print numbers from  -1 to -10\n",
    "for i in range(-10,0):\n",
    "    print(i)"
   ]
  },
  {
   "cell_type": "code",
   "execution_count": 89,
   "id": "1f2e17cd-ebeb-4d39-8115-91467e066fb3",
   "metadata": {},
   "outputs": [
    {
     "name": "stdin",
     "output_type": "stream",
     "text": [
      "Enter a number:  221\n"
     ]
    },
    {
     "name": "stdout",
     "output_type": "stream",
     "text": [
      "4\n"
     ]
    }
   ],
   "source": [
    "# sum of digits in a number  - and add when it is even \n",
    "# sum of digits in a number  - and add when it is even \n",
    "\n",
    "num = int(input(\"Enter a number: \"))  # Convert input to an integer\n",
    "sum=0\n",
    "while num > 0:\n",
    "    digit = num % 10  # Get the last digit\n",
    "    if digit%2==0:\n",
    "        sum=sum+digit\n",
    "    num = num // 10\n",
    "\n",
    "print(sum)\n"
   ]
  },
  {
   "cell_type": "code",
   "execution_count": 96,
   "id": "fdf7b4d7-af01-49f3-848d-afef03971223",
   "metadata": {},
   "outputs": [
    {
     "name": "stdin",
     "output_type": "stream",
     "text": [
      "Enter the number : 12\n"
     ]
    },
    {
     "name": "stdout",
     "output_type": "stream",
     "text": [
      "13\n"
     ]
    }
   ],
   "source": [
    "# prime number or not prime \n",
    "\n",
    "ip=int(input(\"Enter the number :\"))\n",
    "count=0\n",
    "while(True):\n",
    "    ip+=1\n",
    "    for i in range(2,ip):\n",
    "        if ip%i==0:\n",
    "            count+=1\n",
    "    if count==0:\n",
    "        print(ip)\n",
    "        break"
   ]
  },
  {
   "cell_type": "code",
   "execution_count": 92,
   "id": "86467506-2c7a-465b-8ecb-258bbe3c88c0",
   "metadata": {},
   "outputs": [
    {
     "name": "stdin",
     "output_type": "stream",
     "text": [
      "Enter the number : 121\n"
     ]
    },
    {
     "name": "stdout",
     "output_type": "stream",
     "text": [
      "127\n"
     ]
    }
   ],
   "source": [
    "ip1=int(input(\"Enter the number :\"))\n",
    "while True:\n",
    "    count=0\n",
    "    ip1+=1\n",
    "    for i in range(2,ip1):\n",
    "        if ip1%i==0:\n",
    "            count+=1\n",
    "    if count==0:\n",
    "        print(ip1)\n",
    "        break"
   ]
  },
  {
   "cell_type": "code",
   "execution_count": 111,
   "id": "78517602-5ecc-4153-b32d-1c1ae8259fcd",
   "metadata": {},
   "outputs": [
    {
     "name": "stdin",
     "output_type": "stream",
     "text": [
      "enter a number 20\n"
     ]
    },
    {
     "name": "stdout",
     "output_type": "stream",
     "text": [
      "Not a prime number\n"
     ]
    }
   ],
   "source": [
    "num1=int(input(\"enter a number\"))\n",
    "flag = True\n",
    "if num1 == 2:\n",
    "    print(\"Is a prime\")\n",
    "else:\n",
    "    for i in range(2, num1):\n",
    "        if num1 % i == 0:\n",
    "            flag = False\n",
    "            break\n",
    "    print(\"Is a prime number\") if flag == True else print(\"Not a prime number\")"
   ]
  },
  {
   "cell_type": "code",
   "execution_count": 113,
   "id": "59bf46b8-0198-4f5a-a2f9-96c9ecc8c915",
   "metadata": {},
   "outputs": [
    {
     "name": "stdin",
     "output_type": "stream",
     "text": [
      "Enter start:  12\n",
      "Enter end:  111\n"
     ]
    },
    {
     "name": "stdout",
     "output_type": "stream",
     "text": [
      "13 17 19 23 29 31 37 41 43 47 53 59 61 67 71 73 79 83 89 97 101 103 107 109 "
     ]
    }
   ],
   "source": [
    "# Input range\n",
    "# range of numbers - check prime or not in  certain range of numbers \n",
    "start = int(input(\"Enter start: \"))  \n",
    "end = int(input(\"Enter end: \"))  \n",
    "\n",
    "# Loop through the range\n",
    "for num in range(start, end + 1):\n",
    "    if num > 1 and all(num % i != 0 for i in range(2, int(num**0.5) + 1)):\n",
    "        print(num, end=\" \")  # Print prime numbers\n"
   ]
  },
  {
   "cell_type": "code",
   "execution_count": 101,
   "id": "6264ae85-c8cc-4059-a984-875a4196047b",
   "metadata": {},
   "outputs": [
    {
     "name": "stdin",
     "output_type": "stream",
     "text": [
      "Enter the 1st number : 123\n",
      "Enter the 2nd number : 1212\n"
     ]
    },
    {
     "name": "stdout",
     "output_type": "stream",
     "text": [
      "153\n",
      "370\n",
      "371\n",
      "407\n"
     ]
    }
   ],
   "source": [
    "# write a program to print sum of non-primes  digits in a given number  - 3437 => 3,3,7 =>13\n"
   ]
  },
  {
   "cell_type": "code",
   "execution_count": 119,
   "id": "9e55e4f5-9f9a-4f5d-9c44-f3e679e2efce",
   "metadata": {},
   "outputs": [],
   "source": [
    "# write a program to print max prime digit in a certain number  912780 =>2,7 => max - 7 \n",
    "# compare first digit and last digit in a number  (print equal - if there are  equal )\n",
    "#  print nth fibnocci number \n",
    "# print non-fibnocci numbers  in  given range  -(1 to 100) \n",
    "# reverse a num  in  negative numbers"
   ]
  },
  {
   "cell_type": "code",
   "execution_count": 124,
   "id": "1fcd9fee-264e-4ffc-a6ed-5911d402c900",
   "metadata": {},
   "outputs": [
    {
     "name": "stdin",
     "output_type": "stream",
     "text": [
      "Enter a number:  12342323\n"
     ]
    },
    {
     "name": "stdout",
     "output_type": "stream",
     "text": [
      "Sum of non-prime digits: 5\n"
     ]
    }
   ],
   "source": [
    "# write a program to print max prime digit in a certain number  912780 =>2,7 => max - 7 \n",
    "# Function to check if a digit is prime\n",
    "def is_prime_digit(digit):\n",
    "    return digit in {2, 3, 5, 7}  # Prime digits\n",
    "\n",
    "# Function to calculate sum of non-prime digits in a number\n",
    "def sum_of_non_prime_digits(num):\n",
    "    non_prime_sum = 0\n",
    "\n",
    "    for digit in str(num):  # Convert number to string and iterate through digits\n",
    "        digit = int(digit)  # Convert back to integer\n",
    "        if not is_prime_digit(digit):  # Check if not prime\n",
    "            non_prime_sum += digit  # Add to sum\n",
    "\n",
    "    return non_prime_sum\n",
    "\n",
    "# Input from the user\n",
    "num = int(input(\"Enter a number: \"))\n",
    "\n",
    "# Get and print the sum of non-prime digits\n",
    "result = sum_of_non_prime_digits(num)\n",
    "print(\"Sum of non-prime digits:\", result)\n"
   ]
  },
  {
   "cell_type": "code",
   "execution_count": null,
   "id": "d829f015-f878-4ec2-83b8-99247a833000",
   "metadata": {},
   "outputs": [],
   "source": [
    "# compare first digit and last digit in a number  (print equal - if there are  equal )\n"
   ]
  },
  {
   "cell_type": "code",
   "execution_count": 116,
   "id": "9a94ab3f-1abf-4a85-b122-0778540890e2",
   "metadata": {},
   "outputs": [],
   "source": [
    "\n"
   ]
  },
  {
   "cell_type": "code",
   "execution_count": 120,
   "id": "b8ff2335-49b8-4769-b6da-209624a5acd6",
   "metadata": {},
   "outputs": [
    {
     "name": "stdin",
     "output_type": "stream",
     "text": [
      "Enter n:  12\n"
     ]
    },
    {
     "name": "stdout",
     "output_type": "stream",
     "text": [
      "Nth Fibonacci number: 89\n"
     ]
    }
   ],
   "source": [
    "#  print nth fibnocci number \n",
    "# Function to find nth Fibonacci number\n",
    "def fibonacci(n):\n",
    "    a, b = 0, 1\n",
    "    for _ in range(n-1):\n",
    "        a, b = b, a + b\n",
    "    return a\n",
    "\n",
    "# Input nth position\n",
    "n = int(input(\"Enter n: \"))  \n",
    "\n",
    "print(\"Nth Fibonacci number:\", fibonacci(n))\n"
   ]
  },
  {
   "cell_type": "code",
   "execution_count": 121,
   "id": "97faec25-11ad-41f0-8398-ba60bfb91912",
   "metadata": {},
   "outputs": [
    {
     "name": "stdout",
     "output_type": "stream",
     "text": [
      "4 6 7 9 10 11 12 14 15 16 17 18 19 20 22 23 24 25 26 27 28 29 30 31 32 33 35 36 37 38 39 40 41 42 43 44 45 46 47 48 49 50 51 52 53 54 56 57 58 59 60 61 62 63 64 65 66 67 68 69 70 71 72 73 74 75 76 77 78 79 80 81 82 83 84 85 86 87 88 90 91 92 93 94 95 96 97 98 99 100 "
     ]
    }
   ],
   "source": [
    "# print non-fibnocci numbers  in  given range  -(1 to 100) \n",
    "# Create a Fibonacci set\n",
    "fib_set = set()\n",
    "a, b = 0, 1\n",
    "while a <= 100:\n",
    "    fib_set.add(a)\n",
    "    a, b = b, a + b\n",
    "\n",
    "# Print non-Fibonacci numbers\n",
    "for i in range(1, 101):\n",
    "    if i not in fib_set:\n",
    "        print(i, end=\" \")\n"
   ]
  },
  {
   "cell_type": "code",
   "execution_count": 126,
   "id": "82db5965-80ce-446e-b403-29f539bb7c5e",
   "metadata": {},
   "outputs": [
    {
     "name": "stdin",
     "output_type": "stream",
     "text": [
      "Enter a number:  121\n"
     ]
    },
    {
     "name": "stdout",
     "output_type": "stream",
     "text": [
      "Equal\n"
     ]
    }
   ],
   "source": [
    "# reverse a num  in  negative numbers\n",
    "num = int(input(\"Enter a number: \"))\n",
    "\n",
    "# Get the last digit\n",
    "last_digit = num % 10  \n",
    "\n",
    "# Get the first digit\n",
    "first_digit = num\n",
    "while first_digit >= 10:\n",
    "    first_digit //= 10  # Keep dividing by 10 until we get the first digit\n",
    "\n",
    "# Compare first and last digit\n",
    "if first_digit == last_digit:\n",
    "    print(\"Equal\")\n",
    "else:\n",
    "    print(\"Not Equal\")\n"
   ]
  },
  {
   "cell_type": "code",
   "execution_count": 102,
   "id": "ae842a1f-28e5-4558-bab9-85f3b8c9b3ea",
   "metadata": {},
   "outputs": [
    {
     "name": "stdin",
     "output_type": "stream",
     "text": [
      "Enter the number of fib numbers : 12\n"
     ]
    },
    {
     "name": "stdout",
     "output_type": "stream",
     "text": [
      "0 1 1 2 3 5 8 13 21 34 55 89 "
     ]
    }
   ],
   "source": [
    "# fibonacci series\n",
    "n=int(input(\"Enter the number of fib numbers :\"))\n",
    "a=0\n",
    "b=1\n",
    "print(a,b,end=\" \")\n",
    "for i in range (2,n):\n",
    "    c=a+b\n",
    "    print(c,end=\" \")\n",
    "    a=b\n",
    "    b=c"
   ]
  },
  {
   "cell_type": "code",
   "execution_count": 103,
   "id": "e2f4172b-8624-4187-9dd8-1612cd72a55d",
   "metadata": {},
   "outputs": [],
   "source": [
    "#feb 11\n",
    "#Q1: Nearest leap year in the increasing side\n",
    "#Q2 -Perfect number 6 => 1, 2, 3, 6 => Sum of 1, 2, 3 => 6\n",
    "#Q3: Find all armstrong number in a given range (100 to 1000)\n",
    "#153 => 125 + 27 + 1 => 153"
   ]
  },
  {
   "cell_type": "code",
   "execution_count": 105,
   "id": "4261c320-2e34-4df6-a6c0-fee621eead68",
   "metadata": {},
   "outputs": [
    {
     "name": "stdin",
     "output_type": "stream",
     "text": [
      "Enter a year:  1233\n"
     ]
    },
    {
     "name": "stdout",
     "output_type": "stream",
     "text": [
      "Nearest leap year: 1236\n"
     ]
    }
   ],
   "source": [
    "\n",
    "#Q1: Nearest leap year in the increasing side\n",
    "# Function to check if a year is a leap year\n",
    "def is_leap_year(year):\n",
    "    return (year % 4 == 0 and year % 100 != 0) or (year % 400 == 0)\n",
    "\n",
    "# Input a year\n",
    "year = int(input(\"Enter a year: \"))\n",
    "\n",
    "# Find the next leap year\n",
    "while not is_leap_year(year):\n",
    "    year += 1\n",
    "\n",
    "print(\"Nearest leap year:\", year)\n"
   ]
  },
  {
   "cell_type": "code",
   "execution_count": 107,
   "id": "8ef97d3c-7fe4-4ba0-88a4-0522bf5a7cbe",
   "metadata": {},
   "outputs": [
    {
     "name": "stdin",
     "output_type": "stream",
     "text": [
      "Enter a number:  6\n"
     ]
    },
    {
     "name": "stdout",
     "output_type": "stream",
     "text": [
      "6  is a perfect number.\n"
     ]
    }
   ],
   "source": [
    "# perfect number or not---6-->1,2,3=6\n",
    "\n",
    "def is_perfect_number(n):\n",
    "    if n <= 1:\n",
    "        return False\n",
    "\n",
    "    divisors_sum = 0\n",
    "    for i in range(1, n // 2 + 1): \n",
    "        if n % i == 0: \n",
    "            divisors_sum += i\n",
    "    return divisors_sum == n\n",
    "\n",
    "number = int(input(\"Enter a number: \"))\n",
    "if is_perfect_number(number):\n",
    "    print(number,\" is a perfect number.\")\n",
    "else:\n",
    "    print(number,\" is not a perfect number.\")"
   ]
  },
  {
   "cell_type": "code",
   "execution_count": 109,
   "id": "44e8f6c8-cae2-4171-a012-c84ea7303086",
   "metadata": {},
   "outputs": [
    {
     "name": "stdin",
     "output_type": "stream",
     "text": [
      "Enter the 1st number : 100\n",
      "Enter the 2nd number : 1000\n"
     ]
    },
    {
     "name": "stdout",
     "output_type": "stream",
     "text": [
      "153\n",
      "370\n",
      "371\n",
      "407\n"
     ]
    }
   ],
   "source": [
    "# armstrong number in a given range\n",
    "#Q3: Find all armstrong number in a given range (100 to 1000)\n",
    "#153 => 125 + 27 + 1 => 153\n",
    "low=int(input(\"Enter the 1st number :\"))\n",
    "upp=int(input(\"Enter the 2nd number :\"))\n",
    "\n",
    "for i in range(low, upp + 1):\n",
    "    order = len(str(i))\n",
    "    sum = 0\n",
    "    temp = i\n",
    "    while temp > 0:\n",
    "        digit = temp % 10\n",
    "        sum += digit ** order\n",
    "        temp //= 10\n",
    "\n",
    "    if i == sum:\n",
    "        print(i)"
   ]
  },
  {
   "cell_type": "code",
   "execution_count": null,
   "id": "37717ca0-3128-46e7-9c29-3b91b6a1968f",
   "metadata": {},
   "outputs": [],
   "source": []
  }
 ],
 "metadata": {
  "kernelspec": {
   "display_name": "Python 3 (ipykernel)",
   "language": "python",
   "name": "python3"
  },
  "language_info": {
   "codemirror_mode": {
    "name": "ipython",
    "version": 3
   },
   "file_extension": ".py",
   "mimetype": "text/x-python",
   "name": "python",
   "nbconvert_exporter": "python",
   "pygments_lexer": "ipython3",
   "version": "3.12.7"
  }
 },
 "nbformat": 4,
 "nbformat_minor": 5
}
